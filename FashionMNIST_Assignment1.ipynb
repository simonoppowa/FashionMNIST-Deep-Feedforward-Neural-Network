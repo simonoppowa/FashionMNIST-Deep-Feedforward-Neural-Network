{
  "nbformat": 4,
  "nbformat_minor": 0,
  "metadata": {
    "colab": {
      "name": "FashionMNIST_Assignment1.ipynb",
      "version": "0.3.2",
      "provenance": [],
      "collapsed_sections": [],
      "include_colab_link": true
    },
    "kernelspec": {
      "name": "python3",
      "display_name": "Python 3"
    }
  },
  "cells": [
    {
      "cell_type": "markdown",
      "metadata": {
        "id": "view-in-github",
        "colab_type": "text"
      },
      "source": [
        "[View in Colaboratory](https://colab.research.google.com/github/simonoppowa/FashionMNIST-Deep-Feedforward-Neural-Network/blob/master/FashionMNIST_Assignment1.ipynb)"
      ]
    },
    {
      "metadata": {
        "id": "e3ym2H3Yc115",
        "colab_type": "text"
      },
      "cell_type": "markdown",
      "source": [
        "# Fashion MNIST Deep Feedforward Neural Network\n",
        "## Assignment 1\n",
        "## Simon Oppowa\n",
        "\n",
        "[Fashion MNIST Dataset By Zalando](https://github.com/zalandoresearch/fashion-mnist)"
      ]
    },
    {
      "metadata": {
        "id": "hw0RJZnouUMh",
        "colab_type": "text"
      },
      "cell_type": "markdown",
      "source": [
        "### Test Accuracy:\n",
        "\n",
        "\n",
        "\n",
        "*   `Accuracy after 10 epchos: 0.8730000257492065`\n",
        "*   `Accuracy after 50 epchos: 0.8912000060081482`\n",
        "*   `Accuracy after 100 epchos: 0.8959000110626221`\n",
        "*   `Accuracy after 100 epchos: 0.8991000056266785`\n",
        "\n"
      ]
    },
    {
      "metadata": {
        "id": "h03GrhcHao8D",
        "colab_type": "code",
        "colab": {}
      },
      "cell_type": "code",
      "source": [
        "import tensorflow as tf\n",
        "import matplotlib.pyplot as plt\n",
        "import numpy as np\n",
        "import math\n",
        "from tensorflow.examples.tutorials.mnist import input_data"
      ],
      "execution_count": 0,
      "outputs": []
    },
    {
      "metadata": {
        "id": "JxFQGhMDdyhY",
        "colab_type": "text"
      },
      "cell_type": "markdown",
      "source": [
        "## Download/Extract Fashion MNIST Dataset"
      ]
    },
    {
      "metadata": {
        "id": "RzSMOj-wa2s3",
        "colab_type": "code",
        "colab": {
          "base_uri": "https://localhost:8080/",
          "height": 89
        },
        "outputId": "f1c3d9c8-943a-4291-85fd-095ffaf7957d"
      },
      "cell_type": "code",
      "source": [
        "mnist = input_data.read_data_sets('data/fashion', source_url='http://fashion-mnist.s3-website.eu-central-1.amazonaws.com/', one_hot=True)"
      ],
      "execution_count": 13,
      "outputs": [
        {
          "output_type": "stream",
          "text": [
            "Extracting data/fashion/train-images-idx3-ubyte.gz\n",
            "Extracting data/fashion/train-labels-idx1-ubyte.gz\n",
            "Extracting data/fashion/t10k-images-idx3-ubyte.gz\n",
            "Extracting data/fashion/t10k-labels-idx1-ubyte.gz\n"
          ],
          "name": "stdout"
        }
      ]
    },
    {
      "metadata": {
        "id": "VMsppxupe43s",
        "colab_type": "text"
      },
      "cell_type": "markdown",
      "source": [
        "## Define Network Constants\n",
        "\n",
        "\n",
        "*    NUM_EPOCHS: Number of times the training data gets iterated through\n",
        "*   MINIBATCH_SIZE: Size of one data to train at a time\n",
        "*   PKEEP: Dropout Rate for overfitting problem (Probability for a neuron to be dropped at one iteration)\n",
        "* LEARNING_RATE: Learning rate at start\n",
        "\n"
      ]
    },
    {
      "metadata": {
        "id": "aZOHoEUCa2vl",
        "colab_type": "code",
        "colab": {}
      },
      "cell_type": "code",
      "source": [
        "NUM_EPOCHS = 100\n",
        "MINIBATCH_SIZE = 1000\n",
        "PKEEP = 0.75\n",
        "LEARNING_RATE = 0.003"
      ],
      "execution_count": 0,
      "outputs": []
    },
    {
      "metadata": {
        "id": "hCY5_mRYhczv",
        "colab_type": "text"
      },
      "cell_type": "markdown",
      "source": [
        "## Define Network Size\n",
        "\n",
        "\n",
        "\n",
        "1.   Input Layer (784 Neurons: 28x28 pixels as input)\n",
        "2.   First HIdden Layer (200 Neurons)\n",
        "3.   Second Hidden Layer (100 Neurons)\n",
        "4.   Third Hidded Layer (60 Neurons)\n",
        "5.   Fourth Hidden Layer (30 Neurons)\n",
        "6.   Output Layer (10 Neurons: )\n",
        "\n",
        "\n"
      ]
    },
    {
      "metadata": {
        "id": "tFR3pGfubDro",
        "colab_type": "code",
        "colab": {}
      },
      "cell_type": "code",
      "source": [
        "FIRST_LEVEL_NEURONS = 784\n",
        "SECOND_LEVEL_NEURONS = 200\n",
        "THIRD_LEVEL_NEURONS = 100\n",
        "FOURTH_LEVEL_NEURONS = 60\n",
        "FIFTH_LEVEL_NEURONS = 30\n",
        "SIXTH_LEVEL_NEURONS = 10"
      ],
      "execution_count": 0,
      "outputs": []
    },
    {
      "metadata": {
        "id": "eC2eeylNjcrH",
        "colab_type": "text"
      },
      "cell_type": "markdown",
      "source": [
        "## Define Tensorflow Placeholders\n",
        "\n",
        "*   X: Input Placeholder\n",
        "*   Y_: Output Placeholder with real values\n",
        "\n",
        "\n",
        "\n",
        "*   step: current step for calculation of learning rate\n",
        "*   pkeep: placeholder for dropout rate\n"
      ]
    },
    {
      "metadata": {
        "id": "xmN2CuvjbFsd",
        "colab_type": "code",
        "colab": {}
      },
      "cell_type": "code",
      "source": [
        "X = tf.placeholder(tf.float32, [None, 784])\n",
        "Y_ = tf.placeholder(tf.float32, [None, 10])\n",
        "\n",
        "step = tf.placeholder(tf.int32)\n",
        "pkeep = tf.placeholder(tf.float32)"
      ],
      "execution_count": 0,
      "outputs": []
    },
    {
      "metadata": {
        "id": "eCZ26GQFkVon",
        "colab_type": "text"
      },
      "cell_type": "markdown",
      "source": [
        "## Define Weights and Biases\n",
        "\n",
        "\n",
        "*   Weight are initialized with small random values between -0.2 and +0.2\n",
        "*   Biases are initialized with small positive values to work best with RELU\n",
        "\n"
      ]
    },
    {
      "metadata": {
        "id": "G_voSnb1bKhu",
        "colab_type": "code",
        "colab": {}
      },
      "cell_type": "code",
      "source": [
        "W1 = tf.Variable(tf.truncated_normal([FIRST_LEVEL_NEURONS, SECOND_LEVEL_NEURONS], stddev=0.1))\n",
        "b1 = tf.Variable(tf.ones([SECOND_LEVEL_NEURONS])/10)\n",
        "\n",
        "W2 = tf.Variable(tf.truncated_normal([SECOND_LEVEL_NEURONS, THIRD_LEVEL_NEURONS], stddev=0.1))\n",
        "b2 = tf.Variable(tf.ones([THIRD_LEVEL_NEURONS])/10)\n",
        "\n",
        "W3 = tf.Variable(tf.truncated_normal([THIRD_LEVEL_NEURONS, FOURTH_LEVEL_NEURONS], stddev=0.1))\n",
        "b3 = tf.Variable(tf.ones([FOURTH_LEVEL_NEURONS])/10)\n",
        "\n",
        "W4 = tf.Variable(tf.truncated_normal([FOURTH_LEVEL_NEURONS, FIFTH_LEVEL_NEURONS], stddev=0.1))\n",
        "b4 = tf.Variable(tf.ones([FIFTH_LEVEL_NEURONS])/10)\n",
        "\n",
        "W5 = tf.Variable(tf.truncated_normal([FIFTH_LEVEL_NEURONS, SIXTH_LEVEL_NEURONS], stddev=0.1))\n",
        "b5 = tf.Variable(tf.ones([SIXTH_LEVEL_NEURONS])/10)"
      ],
      "execution_count": 0,
      "outputs": []
    },
    {
      "metadata": {
        "id": "E34cTXphmc5C",
        "colab_type": "text"
      },
      "cell_type": "markdown",
      "source": [
        "## The Model\n",
        "\n",
        "`LINEAR -> RELU -> LINEAR -> RELU -> LINEAR -> RELU -> LINEAR -> RELU -> LINEAR -> SOFTMAX`\n",
        "\n",
        "`Drop neurons after every step with pkeep rate`\n",
        "### Forward propagation"
      ]
    },
    {
      "metadata": {
        "id": "OLdxihUHbNVV",
        "colab_type": "code",
        "colab": {}
      },
      "cell_type": "code",
      "source": [
        "Y1 = tf.nn.relu(tf.matmul(X, W1) + b1)\n",
        "Y1d = tf.nn.dropout(Y1, pkeep)\n",
        "\n",
        "Y2 = tf.nn.relu(tf.matmul(Y1d, W2) + b2)\n",
        "Y2d = tf.nn.dropout(Y2, pkeep)\n",
        "\n",
        "Y3 = tf.nn.relu(tf.matmul(Y2d, W3) + b3)\n",
        "Y3d = tf.nn.dropout(Y3, pkeep)\n",
        "\n",
        "Y4 = tf.nn.relu(tf.matmul(Y3d, W4) + b4)\n",
        "Y4d = tf.nn.dropout(Y4, pkeep)\n",
        "\n",
        "Ylogits = tf.matmul(Y4d, W5) + b5\n",
        "Y = tf.nn.softmax(Ylogits)"
      ],
      "execution_count": 0,
      "outputs": []
    },
    {
      "metadata": {
        "id": "bXNiL3YIomFI",
        "colab_type": "text"
      },
      "cell_type": "markdown",
      "source": [
        "### Cross Entropy Loss Function"
      ]
    },
    {
      "metadata": {
        "id": "DXVoI6aNbTiq",
        "colab_type": "code",
        "colab": {}
      },
      "cell_type": "code",
      "source": [
        "cross_entropy = tf.nn.softmax_cross_entropy_with_logits_v2(logits=Ylogits, labels=Y_)\n",
        "cross_entropy = tf.reduce_mean(cross_entropy)*MINIBATCH_SIZE # Normalize cross entropy for MINIBATCH_SIZE images"
      ],
      "execution_count": 0,
      "outputs": []
    },
    {
      "metadata": {
        "id": "dNTH-QdmpU5H",
        "colab_type": "text"
      },
      "cell_type": "markdown",
      "source": [
        "Calculate accuracy of trained model"
      ]
    },
    {
      "metadata": {
        "id": "3U-b_cAKbxWK",
        "colab_type": "code",
        "colab": {}
      },
      "cell_type": "code",
      "source": [
        "is_correct = tf.equal(tf.argmax(Y, 1), tf.argmax(Y_, 1))\n",
        "accuracy = tf.reduce_mean(tf.cast(is_correct, tf.float32))"
      ],
      "execution_count": 0,
      "outputs": []
    },
    {
      "metadata": {
        "id": "lUVKFfiGpsrC",
        "colab_type": "text"
      },
      "cell_type": "markdown",
      "source": [
        "Start with a LEARNING_RATE learning rate and decrease as you get closer to minimum"
      ]
    },
    {
      "metadata": {
        "id": "ulUqGvw1b1U4",
        "colab_type": "code",
        "colab": {}
      },
      "cell_type": "code",
      "source": [
        "lr = 0.0001 +  tf.train.exponential_decay(LEARNING_RATE, step, 5000, 1/math.e)\n",
        "optimizer = tf.train.AdamOptimizer(lr)\n",
        "train_step = optimizer.minimize(cross_entropy)"
      ],
      "execution_count": 0,
      "outputs": []
    },
    {
      "metadata": {
        "id": "Ekv5Joe0ru2S",
        "colab_type": "text"
      },
      "cell_type": "markdown",
      "source": [
        "## Run Training algorithm\n"
      ]
    },
    {
      "metadata": {
        "id": "0n1mHixtb8xJ",
        "colab_type": "code",
        "colab": {
          "base_uri": "https://localhost:8080/",
          "height": 3617
        },
        "outputId": "c82345da-b192-451f-f0f3-21a84b991972"
      },
      "cell_type": "code",
      "source": [
        "# Create Tensorflow session\n",
        "with tf.Session() as sess:\n",
        "  \n",
        "    #Initialize variables\n",
        "    sess.run(tf.global_variables_initializer())\n",
        "\n",
        "    # Training loop\n",
        "    for epoch in range(NUM_EPOCHS):\n",
        "      \n",
        "      # Calculate minibatches_size\n",
        "        m = len(mnist.train.images)\n",
        "        num_minibatches = int(m / MINIBATCH_SIZE)\n",
        "\n",
        "        for i in range(num_minibatches):\n",
        "          \n",
        "            # load batch of images and correct answers\n",
        "            batch_X, batch_Y = mnist.train.next_batch(MINIBATCH_SIZE)\n",
        "            train_data = {X: batch_X, Y_: batch_Y, step: i, pkeep: PKEEP}\n",
        "\n",
        "            # train (backpropagation)\n",
        "            sess.run(train_step, feed_dict=train_data)\n",
        "\n",
        "            a, c = sess.run([accuracy, cross_entropy], feed_dict=train_data)\n",
        "\n",
        "        # Print accuracy of train and test images after every epoch\n",
        "        print(\"Accuracy after epoch {epoch_num}: {accuracy}\".format(epoch_num=epoch, accuracy=a))\n",
        "        \n",
        "        # Load test data and test\n",
        "        test_data = {X: mnist.test.images, Y_: mnist.test.labels, pkeep: 1.0}\n",
        "        d, e = sess.run([accuracy, cross_entropy], feed_dict=test_data)\n",
        "        print(\"     Test accuracy after epoch {epoch_num}: {accuracy}\".format(epoch_num=epoch, accuracy=d))\n",
        "\n"
      ],
      "execution_count": 22,
      "outputs": [
        {
          "output_type": "stream",
          "text": [
            "Accuracy after epoch 0: 0.7279999852180481\n",
            "     Test accuracy after epoch 0: 0.7620999813079834\n",
            "Accuracy after epoch 1: 0.8040000200271606\n",
            "     Test accuracy after epoch 1: 0.8141000270843506\n",
            "Accuracy after epoch 2: 0.8199999928474426\n",
            "     Test accuracy after epoch 2: 0.8411999940872192\n",
            "Accuracy after epoch 3: 0.8600000143051147\n",
            "     Test accuracy after epoch 3: 0.8540999889373779\n",
            "Accuracy after epoch 4: 0.8610000014305115\n",
            "     Test accuracy after epoch 4: 0.8600000143051147\n",
            "Accuracy after epoch 5: 0.8360000252723694\n",
            "     Test accuracy after epoch 5: 0.8680999875068665\n",
            "Accuracy after epoch 6: 0.8560000061988831\n",
            "     Test accuracy after epoch 6: 0.8636000156402588\n",
            "Accuracy after epoch 7: 0.8450000286102295\n",
            "     Test accuracy after epoch 7: 0.8659999966621399\n",
            "Accuracy after epoch 8: 0.8790000081062317\n",
            "     Test accuracy after epoch 8: 0.8693000078201294\n",
            "Accuracy after epoch 9: 0.8730000257492065\n",
            "     Test accuracy after epoch 9: 0.8715000152587891\n",
            "Accuracy after epoch 10: 0.8970000147819519\n",
            "     Test accuracy after epoch 10: 0.8755999803543091\n",
            "Accuracy after epoch 11: 0.8669999837875366\n",
            "     Test accuracy after epoch 11: 0.8658999800682068\n",
            "Accuracy after epoch 12: 0.878000020980835\n",
            "     Test accuracy after epoch 12: 0.8611000180244446\n",
            "Accuracy after epoch 13: 0.8730000257492065\n",
            "     Test accuracy after epoch 13: 0.8719000220298767\n",
            "Accuracy after epoch 14: 0.8920000195503235\n",
            "     Test accuracy after epoch 14: 0.8741000294685364\n",
            "Accuracy after epoch 15: 0.8740000128746033\n",
            "     Test accuracy after epoch 15: 0.8780999779701233\n",
            "Accuracy after epoch 16: 0.8849999904632568\n",
            "     Test accuracy after epoch 16: 0.8741000294685364\n",
            "Accuracy after epoch 17: 0.8939999938011169\n",
            "     Test accuracy after epoch 17: 0.878600001335144\n",
            "Accuracy after epoch 18: 0.8809999823570251\n",
            "     Test accuracy after epoch 18: 0.878600001335144\n",
            "Accuracy after epoch 19: 0.8790000081062317\n",
            "     Test accuracy after epoch 19: 0.8806999921798706\n",
            "Accuracy after epoch 20: 0.871999979019165\n",
            "     Test accuracy after epoch 20: 0.8804000020027161\n",
            "Accuracy after epoch 21: 0.8820000290870667\n",
            "     Test accuracy after epoch 21: 0.8838000297546387\n",
            "Accuracy after epoch 22: 0.8989999890327454\n",
            "     Test accuracy after epoch 22: 0.8806999921798706\n",
            "Accuracy after epoch 23: 0.8669999837875366\n",
            "     Test accuracy after epoch 23: 0.8842999935150146\n",
            "Accuracy after epoch 24: 0.890999972820282\n",
            "     Test accuracy after epoch 24: 0.8822000026702881\n",
            "Accuracy after epoch 25: 0.8740000128746033\n",
            "     Test accuracy after epoch 25: 0.879800021648407\n",
            "Accuracy after epoch 26: 0.8930000066757202\n",
            "     Test accuracy after epoch 26: 0.8799999952316284\n",
            "Accuracy after epoch 27: 0.8939999938011169\n",
            "     Test accuracy after epoch 27: 0.8779000043869019\n",
            "Accuracy after epoch 28: 0.9010000228881836\n",
            "     Test accuracy after epoch 28: 0.8804000020027161\n",
            "Accuracy after epoch 29: 0.8960000276565552\n",
            "     Test accuracy after epoch 29: 0.8851000070571899\n",
            "Accuracy after epoch 30: 0.8989999890327454\n",
            "     Test accuracy after epoch 30: 0.8834999799728394\n",
            "Accuracy after epoch 31: 0.8939999938011169\n",
            "     Test accuracy after epoch 31: 0.8863999843597412\n",
            "Accuracy after epoch 32: 0.8999999761581421\n",
            "     Test accuracy after epoch 32: 0.8867999911308289\n",
            "Accuracy after epoch 33: 0.8870000243186951\n",
            "     Test accuracy after epoch 33: 0.8842999935150146\n",
            "Accuracy after epoch 34: 0.9039999842643738\n",
            "     Test accuracy after epoch 34: 0.8837000131607056\n",
            "Accuracy after epoch 35: 0.902999997138977\n",
            "     Test accuracy after epoch 35: 0.8844000101089478\n",
            "Accuracy after epoch 36: 0.9049999713897705\n",
            "     Test accuracy after epoch 36: 0.8841999769210815\n",
            "Accuracy after epoch 37: 0.9110000133514404\n",
            "     Test accuracy after epoch 37: 0.8894000053405762\n",
            "Accuracy after epoch 38: 0.8939999938011169\n",
            "     Test accuracy after epoch 38: 0.8823000192642212\n",
            "Accuracy after epoch 39: 0.902999997138977\n",
            "     Test accuracy after epoch 39: 0.8896999955177307\n",
            "Accuracy after epoch 40: 0.9120000004768372\n",
            "     Test accuracy after epoch 40: 0.8881999850273132\n",
            "Accuracy after epoch 41: 0.9240000247955322\n",
            "     Test accuracy after epoch 41: 0.8889999985694885\n",
            "Accuracy after epoch 42: 0.9139999747276306\n",
            "     Test accuracy after epoch 42: 0.8895000219345093\n",
            "Accuracy after epoch 43: 0.9010000228881836\n",
            "     Test accuracy after epoch 43: 0.8883000016212463\n",
            "Accuracy after epoch 44: 0.8980000019073486\n",
            "     Test accuracy after epoch 44: 0.887499988079071\n",
            "Accuracy after epoch 45: 0.9120000004768372\n",
            "     Test accuracy after epoch 45: 0.8884000182151794\n",
            "Accuracy after epoch 46: 0.8989999890327454\n",
            "     Test accuracy after epoch 46: 0.8841999769210815\n",
            "Accuracy after epoch 47: 0.9020000100135803\n",
            "     Test accuracy after epoch 47: 0.8855000138282776\n",
            "Accuracy after epoch 48: 0.9100000262260437\n",
            "     Test accuracy after epoch 48: 0.8902000188827515\n",
            "Accuracy after epoch 49: 0.9089999794960022\n",
            "     Test accuracy after epoch 49: 0.8894000053405762\n",
            "Accuracy after epoch 50: 0.9279999732971191\n",
            "     Test accuracy after epoch 50: 0.8888999819755554\n",
            "Accuracy after epoch 51: 0.9200000166893005\n",
            "     Test accuracy after epoch 51: 0.8877000212669373\n",
            "Accuracy after epoch 52: 0.9259999990463257\n",
            "     Test accuracy after epoch 52: 0.8895999789237976\n",
            "Accuracy after epoch 53: 0.9150000214576721\n",
            "     Test accuracy after epoch 53: 0.8878999948501587\n",
            "Accuracy after epoch 54: 0.8899999856948853\n",
            "     Test accuracy after epoch 54: 0.8849999904632568\n",
            "Accuracy after epoch 55: 0.9100000262260437\n",
            "     Test accuracy after epoch 55: 0.8896999955177307\n",
            "Accuracy after epoch 56: 0.9079999923706055\n",
            "     Test accuracy after epoch 56: 0.8866999745368958\n",
            "Accuracy after epoch 57: 0.9169999957084656\n",
            "     Test accuracy after epoch 57: 0.887499988079071\n",
            "Accuracy after epoch 58: 0.8960000276565552\n",
            "     Test accuracy after epoch 58: 0.8866000175476074\n",
            "Accuracy after epoch 59: 0.9120000004768372\n",
            "     Test accuracy after epoch 59: 0.8881000280380249\n",
            "Accuracy after epoch 60: 0.9160000085830688\n",
            "     Test accuracy after epoch 60: 0.8877000212669373\n",
            "Accuracy after epoch 61: 0.9160000085830688\n",
            "     Test accuracy after epoch 61: 0.8859999775886536\n",
            "Accuracy after epoch 62: 0.8960000276565552\n",
            "     Test accuracy after epoch 62: 0.8848000168800354\n",
            "Accuracy after epoch 63: 0.9089999794960022\n",
            "     Test accuracy after epoch 63: 0.8906000256538391\n",
            "Accuracy after epoch 64: 0.9160000085830688\n",
            "     Test accuracy after epoch 64: 0.8902000188827515\n",
            "Accuracy after epoch 65: 0.9210000038146973\n",
            "     Test accuracy after epoch 65: 0.8906000256538391\n",
            "Accuracy after epoch 66: 0.9279999732971191\n",
            "     Test accuracy after epoch 66: 0.8906999826431274\n",
            "Accuracy after epoch 67: 0.9190000295639038\n",
            "     Test accuracy after epoch 67: 0.8906999826431274\n",
            "Accuracy after epoch 68: 0.9100000262260437\n",
            "     Test accuracy after epoch 68: 0.8881000280380249\n",
            "Accuracy after epoch 69: 0.9399999976158142\n",
            "     Test accuracy after epoch 69: 0.8898000121116638\n",
            "Accuracy after epoch 70: 0.9229999780654907\n",
            "     Test accuracy after epoch 70: 0.8878999948501587\n",
            "Accuracy after epoch 71: 0.9190000295639038\n",
            "     Test accuracy after epoch 71: 0.8884000182151794\n",
            "Accuracy after epoch 72: 0.9179999828338623\n",
            "     Test accuracy after epoch 72: 0.8877999782562256\n",
            "Accuracy after epoch 73: 0.906000018119812\n",
            "     Test accuracy after epoch 73: 0.8895000219345093\n",
            "Accuracy after epoch 74: 0.9010000228881836\n",
            "     Test accuracy after epoch 74: 0.8888999819755554\n",
            "Accuracy after epoch 75: 0.9089999794960022\n",
            "     Test accuracy after epoch 75: 0.8888000249862671\n",
            "Accuracy after epoch 76: 0.902999997138977\n",
            "     Test accuracy after epoch 76: 0.888700008392334\n",
            "Accuracy after epoch 77: 0.9200000166893005\n",
            "     Test accuracy after epoch 77: 0.8891000151634216\n",
            "Accuracy after epoch 78: 0.9210000038146973\n",
            "     Test accuracy after epoch 78: 0.887499988079071\n",
            "Accuracy after epoch 79: 0.9190000295639038\n",
            "     Test accuracy after epoch 79: 0.8927000164985657\n",
            "Accuracy after epoch 80: 0.906000018119812\n",
            "     Test accuracy after epoch 80: 0.8902000188827515\n",
            "Accuracy after epoch 81: 0.9350000023841858\n",
            "     Test accuracy after epoch 81: 0.88919997215271\n",
            "Accuracy after epoch 82: 0.9269999861717224\n",
            "     Test accuracy after epoch 82: 0.8899999856948853\n",
            "Accuracy after epoch 83: 0.9330000281333923\n",
            "     Test accuracy after epoch 83: 0.888700008392334\n",
            "Accuracy after epoch 84: 0.9139999747276306\n",
            "     Test accuracy after epoch 84: 0.8896999955177307\n",
            "Accuracy after epoch 85: 0.9139999747276306\n",
            "     Test accuracy after epoch 85: 0.8892999887466431\n",
            "Accuracy after epoch 86: 0.9190000295639038\n",
            "     Test accuracy after epoch 86: 0.88919997215271\n",
            "Accuracy after epoch 87: 0.9319999814033508\n",
            "     Test accuracy after epoch 87: 0.891700029373169\n",
            "Accuracy after epoch 88: 0.9279999732971191\n",
            "     Test accuracy after epoch 88: 0.8919000029563904\n",
            "Accuracy after epoch 89: 0.9259999990463257\n",
            "     Test accuracy after epoch 89: 0.8930000066757202\n",
            "Accuracy after epoch 90: 0.921999990940094\n",
            "     Test accuracy after epoch 90: 0.8914999961853027\n",
            "Accuracy after epoch 91: 0.9089999794960022\n",
            "     Test accuracy after epoch 91: 0.8899000287055969\n",
            "Accuracy after epoch 92: 0.9269999861717224\n",
            "     Test accuracy after epoch 92: 0.8877000212669373\n",
            "Accuracy after epoch 93: 0.9269999861717224\n",
            "     Test accuracy after epoch 93: 0.8898000121116638\n",
            "Accuracy after epoch 94: 0.9259999990463257\n",
            "     Test accuracy after epoch 94: 0.8906999826431274\n",
            "Accuracy after epoch 95: 0.9359999895095825\n",
            "     Test accuracy after epoch 95: 0.8867999911308289\n",
            "Accuracy after epoch 96: 0.9179999828338623\n",
            "     Test accuracy after epoch 96: 0.8881999850273132\n",
            "Accuracy after epoch 97: 0.9279999732971191\n",
            "     Test accuracy after epoch 97: 0.8877000212669373\n",
            "Accuracy after epoch 98: 0.9229999780654907\n",
            "     Test accuracy after epoch 98: 0.8920999765396118\n",
            "Accuracy after epoch 99: 0.9259999990463257\n",
            "     Test accuracy after epoch 99: 0.8916000127792358\n"
          ],
          "name": "stdout"
        }
      ]
    }
  ]
}